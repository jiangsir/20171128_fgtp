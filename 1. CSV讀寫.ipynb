{
 "cells": [
  {
   "cell_type": "code",
   "execution_count": null,
   "metadata": {
    "collapsed": false
   },
   "outputs": [],
   "source": []
  },
  {
   "cell_type": "code",
   "execution_count": 142,
   "metadata": {
    "collapsed": false
   },
   "outputs": [
    {
     "name": "stdout",
     "output_type": "stream",
     "text": [
      "{'姓名2': '吳〇如', '姓名': '吳佩如', '生日': '1985-06-22', '性別': '男', '編號': 'A0001', '地址': '32075桃園市中壢區仁德里17鄰晉元路337巷20弄28號'}\n",
      "{'姓名2': '黃〇倩', '姓名': '黃啟倩', '生日': '1982-03-09', '性別': '女', '編號': 'A0002', '地址': '80759高雄市三民區瀋陽街106號7樓'}\n",
      "{'姓名2': '李〇真', '姓名': '李建真', '生日': '1977-11-04', '性別': '女', '編號': 'A0003', '地址': '台南市東區崇明路139號16樓之1'}\n",
      "{'姓名2': '葉〇毓', '姓名': '葉怡毓', '生日': '1982-10-30', '性別': '男', '編號': 'A0004', '地址': '70168 臺南市東區崇明16街36號'}\n",
      "{'姓名2': '郭〇珊', '姓名': '郭怡珊', '生日': '1988-03-27', '性別': '女', '編號': 'A0005', '地址': '830高雄市鳳山區崗山北街186巷20號'}\n",
      "{'姓名2': '黃〇鳳', '姓名': '黃金鳳', '生日': '1987-06-06', '性別': '女', '編號': 'A0006', '地址': '220新北市板橋區文化路一段25號'}\n",
      "{'姓名2': '陳〇娟', '姓名': '陳承娟', '生日': '1981-01-25', '性別': '女', '編號': 'A0007', '地址': '40245 台中市南區工學北路86號8樓-3'}\n",
      "{'姓名2': '林〇明', '姓名': '林俊明', '生日': '1983-07-01', '性別': '女', '編號': 'A0008', '地址': '台中市神岡區圳前里圳岸路28號'}\n",
      "{'姓名2': '陳〇福', '姓名': '陳秀福', '生日': '1986-10-30', '性別': '男', '編號': 'A0009', '地址': '522彰化縣田尾鄉打簾村民生路一段237號'}\n",
      "{'姓名2': '溫〇貞', '姓名': '溫素貞', '生日': '1977-02-07', '性別': '女', '編號': 'A0010', '地址': '361苗栗縣造橋鄉談文村10鄰12之2號'}\n"
     ]
    }
   ],
   "source": [
    "import csv\n",
    "\n",
    "datas = []\n",
    "with open('address.csv', 'r', encoding='utf8') as f:\n",
    "    dict_csv = csv.DictReader(f)\n",
    "    for row in dict_csv:\n",
    "        namelist = list(row['姓名'])\n",
    "        namelist[1] = '〇'\n",
    "        newname = \"\".join(namelist)\n",
    "        row['姓名2'] = newname\n",
    "        datas.append(row)\n",
    "        print(row)\n",
    "        \n",
    "with open('address_new.csv', 'w', newline='', encoding='utf8') as csvfile:\n",
    "    fieldnames = datas[0].keys()\n",
    "    writer = csv.DictWriter(csvfile, fieldnames=fieldnames)\n",
    "    writer.writeheader()\n",
    "    for row in datas:\n",
    "        #print(row)\n",
    "        writer.writerow(row)\n",
    "    "
   ]
  },
  {
   "cell_type": "code",
   "execution_count": null,
   "metadata": {
    "collapsed": true
   },
   "outputs": [],
   "source": []
  }
 ],
 "metadata": {
  "kernelspec": {
   "display_name": "Python 3",
   "language": "python",
   "name": "python3"
  },
  "language_info": {
   "codemirror_mode": {
    "name": "ipython",
    "version": 3
   },
   "file_extension": ".py",
   "mimetype": "text/x-python",
   "name": "python",
   "nbconvert_exporter": "python",
   "pygments_lexer": "ipython3",
   "version": "3.5.1"
  }
 },
 "nbformat": 4,
 "nbformat_minor": 0
}
