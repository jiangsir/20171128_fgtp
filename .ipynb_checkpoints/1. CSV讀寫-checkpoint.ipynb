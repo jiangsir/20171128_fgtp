{
 "cells": [
  {
   "cell_type": "code",
   "execution_count": null,
   "metadata": {
    "collapsed": false
   },
   "outputs": [],
   "source": []
  },
  {
   "cell_type": "code",
   "execution_count": 1,
   "metadata": {
    "collapsed": false
   },
   "outputs": [
    {
     "name": "stdout",
     "output_type": "stream",
     "text": [
      "{'打碼姓名': '吳〇如', '編號': 'A0001', '地址': '32075桃園市中壢區仁德里17鄰晉元路337巷20弄28號', '姓名': '吳佩如', '性別': '男', '生日': '1985-06-22'}\n",
      "{'打碼姓名': '黃〇倩', '編號': 'A0002', '地址': '80759高雄市三民區瀋陽街106號7樓', '姓名': '黃啟倩', '性別': '女', '生日': '1982-03-09'}\n",
      "{'打碼姓名': '李〇真', '編號': 'A0003', '地址': '台南市東區崇明路139號16樓之1', '姓名': '李建真', '性別': '女', '生日': '1977-11-04'}\n",
      "{'打碼姓名': '葉〇毓', '編號': 'A0004', '地址': '70168 臺南市東區崇明16街36號', '姓名': '葉怡毓', '性別': '男', '生日': '1982-10-30'}\n",
      "{'打碼姓名': '郭〇珊', '編號': 'A0005', '地址': '830高雄市鳳山區崗山北街186巷20號', '姓名': '郭怡珊', '性別': '女', '生日': '1988-03-27'}\n",
      "{'打碼姓名': '黃〇鳳', '編號': 'A0006', '地址': '220新北市板橋區文化路一段25號', '姓名': '黃金鳳', '性別': '女', '生日': '1987-06-06'}\n",
      "{'打碼姓名': '陳〇娟', '編號': 'A0007', '地址': '40245 台中市南區工學北路86號8樓-3', '姓名': '陳承娟', '性別': '女', '生日': '1981-01-25'}\n",
      "{'打碼姓名': '林〇明', '編號': 'A0008', '地址': '台中市神岡區圳前里圳岸路28號', '姓名': '林俊明', '性別': '女', '生日': '1983-07-01'}\n",
      "{'打碼姓名': '陳〇福', '編號': 'A0009', '地址': '522彰化縣田尾鄉打簾村民生路一段237號', '姓名': '陳秀福', '性別': '男', '生日': '1986-10-30'}\n",
      "{'打碼姓名': '溫〇貞', '編號': 'A0010', '地址': '361苗栗縣造橋鄉談文村10鄰12之2號', '姓名': '溫素貞', '性別': '女', '生日': '1977-02-07'}\n"
     ]
    }
   ],
   "source": [
    "import csv\n",
    "\n",
    "datas = []\n",
    "with open('address.csv', 'r', encoding='utf8') as f:\n",
    "    dict_csv = csv.DictReader(f)\n",
    "    for row in dict_csv:\n",
    "        # 請在此處完成打碼作業。\n",
    "        # 並增加一個欄位 \"打碼姓名\"\n",
    "        # 範例: 吳佩如 -> 吳〇如\n",
    "        print(row)\n",
    "        \n",
    "with open('address_new.csv', 'w', newline='', encoding='utf8') as csvfile:\n",
    "    fieldnames = datas[0].keys()\n",
    "    writer = csv.DictWriter(csvfile, fieldnames=fieldnames)\n",
    "    writer.writeheader()\n",
    "    for row in datas:\n",
    "        #print(row)\n",
    "        writer.writerow(row)\n",
    "    "
   ]
  },
  {
   "cell_type": "code",
   "execution_count": null,
   "metadata": {
    "collapsed": true
   },
   "outputs": [],
   "source": []
  }
 ],
 "metadata": {
  "kernelspec": {
   "display_name": "Python 3",
   "language": "python",
   "name": "python3"
  },
  "language_info": {
   "codemirror_mode": {
    "name": "ipython",
    "version": 3
   },
   "file_extension": ".py",
   "mimetype": "text/x-python",
   "name": "python",
   "nbconvert_exporter": "python",
   "pygments_lexer": "ipython3",
   "version": "3.5.1"
  }
 },
 "nbformat": 4,
 "nbformat_minor": 0
}
