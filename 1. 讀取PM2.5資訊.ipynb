{
 "cells": [
  {
   "cell_type": "code",
   "execution_count": 3,
   "metadata": {
    "collapsed": false
   },
   "outputs": [
    {
     "name": "stdout",
     "output_type": "stream",
     "text": [
      "data is a <class 'list'>\n",
      "data[0] is a <class 'dict'>\n",
      "高雄市 復興 站狀況:良好 主要污染物：, PM2.5=4\n"
     ]
    }
   ],
   "source": [
    "import requests\n",
    "import json\n",
    "\n",
    "res = requests.get(\"http://opendata2.epa.gov.tw/AQX.json\")\n",
    "data = json.loads(res.text)\n",
    "print(\"data is a \"+str(type(data)))\n",
    "print(\"data[0] is a \"+str(type(data[0])))\n",
    "\n",
    "county = '高雄市'\n",
    "sitename = '復興'\n",
    "\n",
    "# 請在這裡列出您有興趣的測站的資訊。\n",
    "#\n",
    "#"
   ]
  },
  {
   "cell_type": "code",
   "execution_count": 9,
   "metadata": {
    "collapsed": false
   },
   "outputs": [
    {
     "name": "stdout",
     "output_type": "stream",
     "text": [
      "基隆\n",
      "汐止\n",
      "萬里\n",
      "新店\n",
      "土城\n",
      "板橋\n",
      "新莊\n",
      "菜寮\n",
      "林口\n",
      "淡水\n",
      "士林\n",
      "中山\n",
      "萬華\n",
      "古亭\n",
      "松山\n",
      "大同\n",
      "桃園\n",
      "大園\n",
      "觀音\n",
      "平鎮\n",
      "龍潭\n",
      "湖口\n",
      "竹東\n",
      "新竹\n",
      "頭份\n",
      "苗栗\n",
      "三義\n",
      "豐原\n",
      "沙鹿\n",
      "大里\n",
      "忠明\n",
      "西屯\n",
      "彰化\n",
      "線西\n",
      "二林\n",
      "南投\n",
      "斗六\n",
      "崙背\n",
      "新港\n",
      "朴子\n",
      "臺西\n",
      "嘉義\n",
      "新營\n",
      "善化\n",
      "安南\n",
      "臺南\n",
      "美濃\n",
      "橋頭\n",
      "仁武\n",
      "鳳山\n",
      "大寮\n",
      "林園\n",
      "楠梓\n",
      "左營\n",
      "前金\n",
      "前鎮\n",
      "小港\n",
      "屏東\n",
      "潮州\n",
      "恆春\n",
      "臺東\n",
      "花蓮\n",
      "陽明\n",
      "宜蘭\n",
      "冬山\n",
      "三重\n",
      "中壢\n",
      "竹山\n",
      "永和\n",
      "復興\n",
      "埔里\n",
      "馬祖\n",
      "金門\n",
      "馬公\n",
      "關山\n",
      "麥寮\n"
     ]
    }
   ],
   "source": [
    "# http://opendata.epa.gov.tw/ws/Data/REWIQA/?$orderby=SiteName&$skip=0&$top=1000&format=json\n",
    "import requests\n",
    "import json\n",
    "\n",
    "res = requests.get(\"http://opendata2.epa.gov.tw/AQX.json\")\n",
    "data = json.loads(res.text)\n",
    "\n",
    "for site in data:\n",
    "    print(site['SiteName'])"
   ]
  }
 ],
 "metadata": {
  "kernelspec": {
   "display_name": "Python 3",
   "language": "python",
   "name": "python3"
  },
  "language_info": {
   "codemirror_mode": {
    "name": "ipython",
    "version": 3
   },
   "file_extension": ".py",
   "mimetype": "text/x-python",
   "name": "python",
   "nbconvert_exporter": "python",
   "pygments_lexer": "ipython3",
   "version": "3.5.1"
  }
 },
 "nbformat": 4,
 "nbformat_minor": 0
}
